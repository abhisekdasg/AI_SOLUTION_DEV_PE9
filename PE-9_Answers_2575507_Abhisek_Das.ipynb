{
 "cells": [
  {
   "cell_type": "markdown",
   "id": "f3b9c5fd",
   "metadata": {},
   "source": [
    "# Customer Clustering with K-Means\n",
    "\n",
    "You work for an e-commerce company, and your task is to group customers into distinct clusters based \n",
    "on their shopping behavior and preferences using the K-Means clustering algorithm. The dataset contains \n",
    "customer information, purchase history, and browsing data. Your goal is to create customer clusters for \n",
    "targeted marketing and personalized recommendations. Answer the following questions based on this \n",
    "case study:\n",
    "    \n",
    "1. Data Exploration:\n",
    "    a. Load the customer dataset using Python libraries like pandas and explore its structure. Describe \n",
    "    the features and the data distribution.\n",
    "    b. Discuss the importance of customer clustering in the e-commerce industry.\n",
    "\n",
    "2. Data Preprocessing:\n",
    "    a. Prepare the customer data for clustering. Discuss the steps involved in data preprocessing, such \n",
    "    as scaling, handling missing values, and encoding categorical variables.\n",
    "\n",
    "3. Implementing K-Means:\n",
    "    a. Implement the K-Means clustering algorithm using Python libraries like scikit-learn to cluster \n",
    "    customers based on their features.\n",
    "    b. Choose an appropriate number of clusters (K) for the algorithm and explain your choice.\n",
    "\n",
    "4. Model Training:\n",
    "    a. Train the K-Means model using the preprocessed customer dataset.\n",
    "    b. Discuss the distance metric used for cluster assignment and its significance in customer \n",
    "    clustering.\n",
    "\n",
    "5. Customer Clustering:\n",
    "    a. Assign customers to their respective clusters based on their features.\n",
    "    b. Visualize the customer clusters and analyze the characteristics of each cluster\n",
    "\n",
    "6. Performance Metrics:\n",
    "    a. Explain the concept of silhouette score and how it is used to evaluate the quality of clustering.\n",
    "    b. Calculate the silhouette score for the customer clusters and interpret the results.\n",
    "\n",
    "7. Hyperparameter Tuning:\n",
    "    a. Describe the impact of the number of clusters (K) on the performance of K-Means and suggest \n",
    "    strategies for selecting the optimal value of K.\n",
    "    b. Conduct hyperparameter tuning for the K-Means model and discuss the impact of different \n",
    "    values of K on clustering results.\n",
    "\n",
    "8. Real-World Application:\n",
    "    a. Describe the practical applications of customer clustering in the e-commerce industry.\n",
    "    b. Discuss how customer clustering can lead to improved customer engagement, targeted \n",
    "    marketing, and personalized recommendations.\n",
    "\n",
    "9. Model Limitations:\n",
    "    a. Identify potential limitations of the K-Means clustering algorithm in customer segmentation \n",
    "    and discuss scenarios in which it may not perform well.\n",
    "\n",
    "10. Presentation and Recommendations:\n",
    "    a. Prepare a presentation or report summarizing your analysis, results, and recommendations for \n",
    "    the e-commerce company. Highlight the significance of customer clustering and the role of K\u0002Means in personalized marketing.\n",
    "\n",
    "    In this case study, you are required to demonstrate your ability to use the K-Means clustering algorithm \n",
    "for customer segmentation, understand the importance of performance metrics like silhouette score, and \n",
    "communicate the practical applications of customer clustering in the e-commerce sector"
   ]
  },
  {
   "cell_type": "markdown",
   "id": "96baacb8",
   "metadata": {},
   "source": [
    "# 1. Data Exploration:\n",
    "    a. Load the customer dataset using Python libraries like pandas and explore its structure. Describe \n",
    "    the features and the data distribution.\n",
    "    b. Discuss the importance of customer clustering in the e-commerce industry."
   ]
  },
  {
   "cell_type": "code",
   "execution_count": 4,
   "id": "7987fe35",
   "metadata": {},
   "outputs": [
    {
     "name": "stderr",
     "output_type": "stream",
     "text": [
      "C:\\Users\\Abhisek Das\\AppData\\Local\\Temp\\ipykernel_10896\\3590811211.py:5: DtypeWarning: Columns (0,1,2,4,7) have mixed types. Specify dtype option on import or set low_memory=False.\n",
      "  customer_data = pd.read_csv('data.csv')\n"
     ]
    },
    {
     "name": "stdout",
     "output_type": "stream",
     "text": [
      "Dataset structure:\n",
      "<class 'pandas.core.frame.DataFrame'>\n",
      "RangeIndex: 541909 entries, 0 to 541908\n",
      "Data columns (total 8 columns):\n",
      " #   Column       Non-Null Count  Dtype  \n",
      "---  ------       --------------  -----  \n",
      " 0   InvoiceNo    599 non-null    object \n",
      " 1   StockCode    599 non-null    object \n",
      " 2   Description  599 non-null    object \n",
      " 3   Quantity     599 non-null    float64\n",
      " 4   InvoiceDate  599 non-null    object \n",
      " 5   UnitPrice    599 non-null    float64\n",
      " 6   CustomerID   599 non-null    float64\n",
      " 7   Country      599 non-null    object \n",
      "dtypes: float64(3), object(5)\n",
      "memory usage: 33.1+ MB\n",
      "None\n",
      "\n",
      "First few rows of the dataset:\n",
      "  InvoiceNo StockCode                          Description  Quantity  \\\n",
      "0    536365    85123A   WHITE HANGING HEART T-LIGHT HOLDER       6.0   \n",
      "1    536365     71053                  WHITE METAL LANTERN       6.0   \n",
      "2    536365    84406B       CREAM CUPID HEARTS COAT HANGER       8.0   \n",
      "3    536365    84029G  KNITTED UNION FLAG HOT WATER BOTTLE       6.0   \n",
      "4    536365    84029E       RED WOOLLY HOTTIE WHITE HEART.       6.0   \n",
      "\n",
      "        InvoiceDate  UnitPrice  CustomerID         Country  \n",
      "0  12-01-2010 08:26       2.55     17850.0  United Kingdom  \n",
      "1  12-01-2010 08:26       3.39     17850.0  United Kingdom  \n",
      "2  12-01-2010 08:26       2.75     17850.0  United Kingdom  \n",
      "3  12-01-2010 08:26       3.39     17850.0  United Kingdom  \n",
      "4  12-01-2010 08:26       3.39     17850.0  United Kingdom  \n",
      "\n",
      "Basic statistics of numerical features:\n",
      "         Quantity   UnitPrice    CustomerID\n",
      "count  599.000000  599.000000    599.000000\n",
      "mean    14.295492    3.395676  16038.347245\n",
      "std     35.668220    7.409809   1813.978514\n",
      "min    -24.000000    0.100000  12431.000000\n",
      "25%      2.000000    1.250000  14307.000000\n",
      "50%      6.000000    2.100000  16098.000000\n",
      "75%     12.000000    3.750000  17850.000000\n",
      "max    432.000000  165.000000  18074.000000\n"
     ]
    }
   ],
   "source": [
    "#a. Load the customer dataset using Python libraries\n",
    "\n",
    "import pandas as pd\n",
    "\n",
    "customer_data = pd.read_csv('data.csv')\n",
    "\n",
    "# Explore the structure of the dataset\n",
    "print(\"Dataset structure:\")\n",
    "print(customer_data.info())\n",
    "\n",
    "# Display the first few rows of the dataset\n",
    "print(\"\\nFirst few rows of the dataset:\")\n",
    "print(customer_data.head())\n",
    "\n",
    "# Basic statistics of numerical features\n",
    "print(\"\\nBasic statistics of numerical features:\")\n",
    "print(customer_data.describe())\n"
   ]
  },
  {
   "cell_type": "code",
   "execution_count": null,
   "id": "7e568ede",
   "metadata": {},
   "outputs": [],
   "source": [
    "Features:\n",
    "\n",
    "    InvoiceNo: Invoice number associated with the transaction.\n",
    "    StockCode: Stock code representing the specific item in the transaction.\n",
    "    Description: Description of the item being purchased.\n",
    "    Quantity: Number of items purchased in the transaction.\n",
    "    InvoiceDate: Date and time when the transaction occurred.\n",
    "    UnitPrice: Price per unit of the item.\n",
    "    CustomerID: Unique identifier for each customer.\n",
    "    Country: Country where the transaction took place."
   ]
  },
  {
   "cell_type": "code",
   "execution_count": null,
   "id": "33a3cfa0",
   "metadata": {},
   "outputs": [],
   "source": [
    "#b. Importance of Customer Clustering in E-commerce:\n",
    "\n",
    "    Personalized Marketing: Customized promotions for higher engagement.\n",
    "    Targeted Recommendations: Product suggestions aligned with preferences.\n",
    "    Customer Retention: Loyalty programs and incentives for valuable customers.\n",
    "    Efficient Inventory Management: Demand forecasting and optimized stock levels.\n",
    "    Fraud Detection: Detect unusual patterns indicating potential fraud.\n",
    "    Market Basket Analysis: Identify frequently purchased item combinations.\n",
    "    Enhanced Shopping Experience: Tailored navigation and relevant content."
   ]
  },
  {
   "cell_type": "markdown",
   "id": "e54f6727",
   "metadata": {},
   "source": [
    "# 2. Data Preprocessing:\n",
    "    a. Prepare the customer data for clustering. Discuss the steps involved in data preprocessing, such \n",
    "    as scaling, handling missing values, and encoding categorical variables."
   ]
  },
  {
   "cell_type": "code",
   "execution_count": 15,
   "id": "363632f3",
   "metadata": {
    "scrolled": true
   },
   "outputs": [
    {
     "name": "stderr",
     "output_type": "stream",
     "text": [
      "C:\\Users\\Abhisek Das\\AppData\\Local\\Temp\\ipykernel_10896\\2502313414.py:11: DtypeWarning: Columns (0,1,2,4,7) have mixed types. Specify dtype option on import or set low_memory=False.\n",
      "  data = pd.read_csv('data.csv')\n"
     ]
    },
    {
     "name": "stdout",
     "output_type": "stream",
     "text": [
      "Processed Data after Step 1 (Handling Missing Values):\n",
      "   Quantity  UnitPrice  CustomerID InvoiceNo StockCode  \\\n",
      "0       6.0       2.55     17850.0    536365    85123A   \n",
      "1       6.0       3.39     17850.0    536365     71053   \n",
      "2       8.0       2.75     17850.0    536365    84406B   \n",
      "3       6.0       3.39     17850.0    536365    84029G   \n",
      "4       6.0       3.39     17850.0    536365    84029E   \n",
      "\n",
      "                           Description       InvoiceDate         Country  \n",
      "0   WHITE HANGING HEART T-LIGHT HOLDER  12-01-2010 08:26  United Kingdom  \n",
      "1                  WHITE METAL LANTERN  12-01-2010 08:26  United Kingdom  \n",
      "2       CREAM CUPID HEARTS COAT HANGER  12-01-2010 08:26  United Kingdom  \n",
      "3  KNITTED UNION FLAG HOT WATER BOTTLE  12-01-2010 08:26  United Kingdom  \n",
      "4       RED WOOLLY HOTTIE WHITE HEART.  12-01-2010 08:26  United Kingdom  \n",
      "\n",
      "Processed Data after Step 2 (Scaling):\n",
      "   Quantity  UnitPrice  CustomerID\n",
      "0 -7.001214  -3.435656   30.064599\n",
      "1 -7.001214  -0.023060   30.064599\n",
      "2 -5.313258  -2.623133   30.064599\n",
      "3 -7.001214  -0.023060   30.064599\n",
      "4 -7.001214  -0.023060   30.064599\n",
      "\n",
      "Processed Data after Step 3 (Encoding Categorical Variables):\n",
      "   Quantity  UnitPrice  CustomerID  InvoiceNo  StockCode  Description  \\\n",
      "0 -7.001214  -3.435656   30.064599          0        375          368   \n",
      "1 -7.001214  -0.023060   30.064599          0        320          370   \n",
      "2 -5.313258  -2.623133   30.064599          0        340           86   \n",
      "3 -7.001214  -0.023060   30.064599          0        334          181   \n",
      "4 -7.001214  -0.023060   30.064599          0        333          273   \n",
      "\n",
      "   InvoiceDate  Country  \n",
      "0            0        3  \n",
      "1            0        3  \n",
      "2            0        3  \n",
      "3            0        3  \n",
      "4            0        3  \n",
      "\n",
      "Selected Features after Step 4 (Feature Selection):\n",
      "[[-7.00121364 30.0645986   0.        ]\n",
      " [-7.00121364 30.0645986   0.        ]\n",
      " [-5.31325752 30.0645986   0.        ]\n",
      " [-7.00121364 30.0645986   0.        ]\n",
      " [-7.00121364 30.0645986   0.        ]]\n",
      "\n",
      "Data after Step 5 (Outlier Detection):\n",
      "    Quantity  UnitPrice  CustomerID  InvoiceNo  StockCode  Description  \\\n",
      "10       0.0  -5.263832  -49.641773          2        252          254   \n",
      "11       0.0  -5.263832  -49.641773          2        253          255   \n",
      "12       0.0   1.439481  -49.641773          2        254          121   \n",
      "13       0.0  -7.092008  -49.641773          2        170          164   \n",
      "28       0.0   1.439481  -57.341909          5        246           20   \n",
      "\n",
      "    InvoiceDate  Country  \n",
      "10            2        3  \n",
      "11            2        3  \n",
      "12            2        3  \n",
      "13            2        3  \n",
      "28            4        1  \n",
      "\n",
      "Data after Step 6 (Data Transformation):\n",
      "    Quantity  UnitPrice  CustomerID  InvoiceNo  StockCode  Description  \\\n",
      "10       0.0  -5.263832  -49.641773          2        252          254   \n",
      "11       0.0  -5.263832  -49.641773          2        253          255   \n",
      "12       0.0   1.439481  -49.641773          2        254          121   \n",
      "13       0.0  -7.092008  -49.641773          2        170          164   \n",
      "28       0.0   1.439481  -57.341909          5        246           20   \n",
      "\n",
      "    InvoiceDate  Country  \n",
      "10            2        3  \n",
      "11            2        3  \n",
      "12            2        3  \n",
      "13            2        3  \n",
      "28            4        1  \n",
      "\n",
      "Training and Testing Data after Step 7 (Splitting Data):\n",
      "X_train shape: (433154, 7)\n",
      "X_test shape: (108289, 7)\n",
      "y_train shape: (433154,)\n",
      "y_test shape: (108289,)\n"
     ]
    },
    {
     "name": "stderr",
     "output_type": "stream",
     "text": [
      "C:\\Users\\Abhisek Das\\AppData\\Local\\Temp\\ipykernel_10896\\2502313414.py:43: SettingWithCopyWarning: \n",
      "A value is trying to be set on a copy of a slice from a DataFrame.\n",
      "Try using .loc[row_indexer,col_indexer] = value instead\n",
      "\n",
      "See the caveats in the documentation: https://pandas.pydata.org/pandas-docs/stable/user_guide/indexing.html#returning-a-view-versus-a-copy\n",
      "  data_no_outliers['Quantity'] = data_no_outliers['Quantity'].apply(lambda x: np.log(x) if x > 0 else 0)\n"
     ]
    }
   ],
   "source": [
    "# Importing necessary libraries\n",
    "import pandas as pd\n",
    "import numpy as np\n",
    "from sklearn.preprocessing import StandardScaler, LabelEncoder, KBinsDiscretizer\n",
    "from sklearn.impute import SimpleImputer\n",
    "from sklearn.feature_selection import SelectKBest, mutual_info_regression\n",
    "from scipy.stats import zscore\n",
    "from sklearn.model_selection import train_test_split\n",
    "\n",
    "# Load the dataset \n",
    "data = pd.read_csv('data.csv')\n",
    "\n",
    "# Step 1: Handling Missing Values\n",
    "imputer = SimpleImputer(strategy='mean')\n",
    "numeric_columns = data.select_dtypes(include=['float64', 'int64']).columns\n",
    "categorical_columns = data.select_dtypes(include=['object']).columns\n",
    "data_filled_numeric = pd.DataFrame(imputer.fit_transform(data[numeric_columns]), columns=numeric_columns)\n",
    "categorical_imputer = SimpleImputer(strategy='most_frequent')\n",
    "data_filled_categorical = pd.DataFrame(categorical_imputer.fit_transform(data[categorical_columns]), columns=categorical_columns)\n",
    "data_filled = pd.concat([data_filled_numeric, data_filled_categorical], axis=1)\n",
    "\n",
    "# Step 2: Scaling\n",
    "scaler = StandardScaler()\n",
    "data_scaled = pd.DataFrame(scaler.fit_transform(data_filled[numeric_columns]), columns=numeric_columns)\n",
    "\n",
    "# Step 3: Encoding Categorical Variables\n",
    "label_encoder = LabelEncoder()\n",
    "data_encoded = data_scaled.copy()\n",
    "for column in categorical_columns:\n",
    "    data_encoded[column] = label_encoder.fit_transform(data_filled[column])\n",
    "\n",
    "# Step 4: Feature Selection (Using mutual_info_regression for continuous features)\n",
    "X = data_encoded.drop('InvoiceNo', axis=1)  # Drop the target column if exists\n",
    "y = data_encoded['InvoiceNo']  # Target column for feature selection\n",
    "selector = SelectKBest(score_func=mutual_info_regression, k=3)\n",
    "X_selected = selector.fit_transform(X, y)\n",
    "\n",
    "# Step 5: Outlier Detection (Optional)\n",
    "z_scores = zscore(data_encoded)\n",
    "data_no_outliers = data_encoded[(z_scores < 3).all(axis=1)]\n",
    "\n",
    "# Step 6: Data Transformation (Optional)\n",
    "data_no_outliers['Quantity'] = data_no_outliers['Quantity'].apply(lambda x: np.log(x) if x > 0 else 0)\n",
    "\n",
    "# Step 7: Splitting Data (Optional)\n",
    "X_train, X_test, y_train, y_test = train_test_split(data_no_outliers.drop('InvoiceNo', axis=1), data_no_outliers['InvoiceNo'], test_size=0.2, random_state=42)\n",
    "\n",
    "# Displaying preprocessed data\n",
    "print(\"Processed Data after Step 1 (Handling Missing Values):\")\n",
    "print(data_filled.head())\n",
    "\n",
    "print(\"\\nProcessed Data after Step 2 (Scaling):\")\n",
    "print(data_scaled.head())\n",
    "\n",
    "print(\"\\nProcessed Data after Step 3 (Encoding Categorical Variables):\")\n",
    "print(data_encoded.head())\n",
    "\n",
    "print(\"\\nSelected Features after Step 4 (Feature Selection):\")\n",
    "print(X_selected[:5])  # Displaying first 5 rows of selected features\n",
    "\n",
    "print(\"\\nData after Step 5 (Outlier Detection):\")\n",
    "print(data_no_outliers.head())\n",
    "\n",
    "print(\"\\nData after Step 6 (Data Transformation):\")\n",
    "print(data_no_outliers.head())\n",
    "\n",
    "print(\"\\nTraining and Testing Data after Step 7 (Splitting Data):\")\n",
    "print(\"X_train shape:\", X_train.shape)\n",
    "print(\"X_test shape:\", X_test.shape)\n",
    "print(\"y_train shape:\", y_train.shape)\n",
    "print(\"y_test shape:\", y_test.shape)\n"
   ]
  },
  {
   "cell_type": "markdown",
   "id": "963b0fc5",
   "metadata": {},
   "source": [
    "# 3. Implementing K-Means:\n",
    "    a. Implement the K-Means clustering algorithm using Python libraries like scikit-learn to cluster \n",
    "    customers based on their features.\n",
    "    b. Choose an appropriate number of clusters (K) for the algorithm and explain your choice."
   ]
  },
  {
   "cell_type": "code",
   "execution_count": 4,
   "id": "94996376",
   "metadata": {},
   "outputs": [
    {
     "name": "stderr",
     "output_type": "stream",
     "text": [
      "C:\\Users\\Abhisek Das\\AppData\\Local\\Temp\\ipykernel_8628\\2134834997.py:7: DtypeWarning: Columns (0,1,2,4,7) have mixed types. Specify dtype option on import or set low_memory=False.\n",
      "  data = pd.read_csv('data.csv')\n"
     ]
    },
    {
     "data": {
      "image/png": "[encoded data removed]",
      "text/plain": [
       "<Figure size 800x600 with 1 Axes>"
      ]
     },
     "metadata": {},
     "output_type": "display_data"
    }
   ],
   "source": [
    "import pandas as pd\n",
    "from sklearn.impute import SimpleImputer\n",
    "from sklearn.preprocessing import StandardScaler, LabelEncoder\n",
    "from sklearn.cluster import KMeans\n",
    "\n",
    "# Load the dataset \n",
    "data = pd.read_csv('data.csv')\n",
    "\n",
    "# Step 1: Handling Missing Values for Numeric Columns\n",
    "numeric_columns = data.select_dtypes(include=['float64', 'int64']).columns\n",
    "imputer_numeric = SimpleImputer(strategy='mean')\n",
    "data[numeric_columns] = imputer_numeric.fit_transform(data[numeric_columns])\n",
    "\n",
    "# Step 2: Handling Missing Values for Categorical Columns\n",
    "categorical_columns = data.select_dtypes(include=['object']).columns\n",
    "imputer_categorical = SimpleImputer(strategy='most_frequent')\n",
    "data[categorical_columns] = imputer_categorical.fit_transform(data[categorical_columns])\n",
    "\n",
    "# Step 3: Scaling Numeric Columns\n",
    "scaler = StandardScaler()\n",
    "data[numeric_columns] = scaler.fit_transform(data[numeric_columns])\n",
    "\n",
    "# Step 4: Encoding Categorical Columns\n",
    "label_encoders = {}\n",
    "for column in categorical_columns:\n",
    "    label_encoders[column] = LabelEncoder()\n",
    "    data[column] = label_encoders[column].fit_transform(data[column])\n",
    "\n",
    "# Step 5: Implementing K-Means Clustering\n",
    "selected_features = ['Quantity', 'UnitPrice', 'CustomerID']\n",
    "X = data[selected_features]\n",
    "\n",
    "# Choosing the number of clusters (K) using the Elbow Method\n",
    "inertia = []\n",
    "for k in range(1, 11):\n",
    "    kmeans = KMeans(n_clusters=k, random_state=42)\n",
    "    kmeans.fit(X)\n",
    "    inertia.append(kmeans.inertia_)\n",
    "\n",
    "# Visualize the Elbow Method to choose an appropriate K\n",
    "import matplotlib.pyplot as plt\n",
    "plt.figure(figsize=(8, 6))\n",
    "plt.plot(range(1, 11), inertia, marker='o')\n",
    "plt.xlabel('Number of clusters')\n",
    "plt.ylabel('Within-cluster Sum of Squares (Inertia)')\n",
    "plt.title('Elbow Method for Optimal K')\n",
    "plt.show()\n"
   ]
  },
  {
   "cell_type": "code",
   "execution_count": null,
   "id": "c28ac88c",
   "metadata": {},
   "outputs": [],
   "source": [
    "#  b. Choose an appropriate number of clusters (K) for the algorithm and explain your choice.\n",
    "\n",
    "In the  code, I used the Elbow Method to determine the appropriate number of clusters (K). The Elbow Method helps us find the optimal number of clusters by plotting the within-cluster sum of squares (inertia) for different values of K. \n",
    "The point where the inertia starts decreasing at a slower rate (forming an \"elbow\" shape) suggests the optimal number of clusters.\n",
    "In the plotted graph, you can observe the inertia values for K ranging from 1 to 10. Based on the shape of the graph, the optimal number of clusters appears to be 3 because the inertia starts decreasing at a slower rate after K=3.\n",
    "    Therefore, I chose K=3 as the appropriate number of clusters for the K-Means algorithm. This choice is supported by the Elbow Method, indicating that 3 clusters capture the underlying patterns in the data effectively without overly complicating the clustering solution."
   ]
  },
  {
   "cell_type": "markdown",
   "id": "02c2f04d",
   "metadata": {},
   "source": [
    "# 4. Model Training:\n",
    "    a. Train the K-Means model using the preprocessed customer dataset.\n",
    "    b. Discuss the distance metric used for cluster assignment and its significance in customer \n",
    "    clustering."
   ]
  },
  {
   "cell_type": "code",
   "execution_count": 5,
   "id": "4c0c1d5b",
   "metadata": {},
   "outputs": [
    {
     "name": "stdout",
     "output_type": "stream",
     "text": [
      "Clustered Data:\n",
      "   InvoiceNo  StockCode  Description  Quantity  InvoiceDate  UnitPrice  \\\n",
      "0          0        375          368 -7.001214            0  -3.435656   \n",
      "1          0        320          370 -7.001214            0  -0.023060   \n",
      "2          0        340           86 -5.313258            0  -2.623133   \n",
      "3          0        334          181 -7.001214            0  -0.023060   \n",
      "4          0        333          273 -7.001214            0  -0.023060   \n",
      "\n",
      "   CustomerID  Country  Cluster  \n",
      "0   30.064599        3        0  \n",
      "1   30.064599        3        0  \n",
      "2   30.064599        3        0  \n",
      "3   30.064599        3        0  \n",
      "4   30.064599        3        0  \n"
     ]
    }
   ],
   "source": [
    "# Based on the Elbow Method, choose an appropriate K and perform K-Means clustering\n",
    "optimal_k = 3  # Update this with the number of clusters you choose from the elbow method\n",
    "kmeans = KMeans(n_clusters=optimal_k, random_state=42)\n",
    "data_clustered = data.copy()  # Create a copy of the original data\n",
    "data_clustered['Cluster'] = kmeans.fit_predict(X)\n",
    "\n",
    "# Displaying clustered data\n",
    "print(\"Clustered Data:\")\n",
    "print(data_clustered.head())"
   ]
  },
  {
   "cell_type": "code",
   "execution_count": null,
   "id": "83161604",
   "metadata": {},
   "outputs": [],
   "source": [
    "#b.\n",
    "In K-Means clustering, the default distance metric used for cluster assignment is the Euclidean distance. It measures the straight-line distance between two data points in a multi-dimensional space. Euclidean distance is commonly employed because it is easy to understand and computationally efficient.\n",
    "\n",
    "In the context of customer clustering, Euclidean distance helps identify clusters where customers are close to each other in terms of their purchasing behavior, represented by the selected features. Customers grouped together share similar traits based on the chosen attributes, allowing businesses to target specific customer segments with tailored marketing strategies or services."
   ]
  },
  {
   "cell_type": "markdown",
   "id": "e556ce8b",
   "metadata": {},
   "source": [
    "# 5. Customer Clustering:\n",
    "    a. Assign customers to their respective clusters based on their features.\n",
    "    b. Visualize the customer clusters and analyze the characteristics of each cluster"
   ]
  },
  {
   "cell_type": "code",
   "execution_count": 6,
   "id": "9e99a7e4",
   "metadata": {},
   "outputs": [
    {
     "data": {
      "image/png": "[encoded data removed]",
      "text/plain": [
       "<Figure size 800x600 with 1 Axes>"
      ]
     },
     "metadata": {},
     "output_type": "display_data"
    }
   ],
   "source": [
    "import matplotlib.pyplot as plt\n",
    "\n",
    "# Assign customers to clusters\n",
    "data_clustered['Cluster'] = kmeans.predict(X)\n",
    "\n",
    "# Visualize the customer clusters using a scatter plot\n",
    "plt.figure(figsize=(8, 6))\n",
    "for i in range(optimal_k):\n",
    "    cluster_data = data_clustered[data_clustered['Cluster'] == i]\n",
    "    plt.scatter(cluster_data['Quantity'], cluster_data['UnitPrice'], label=f'Cluster {i}', alpha=0.7)\n",
    "\n",
    "plt.scatter(kmeans.cluster_centers_[:, 0], kmeans.cluster_centers_[:, 1], s=200, marker='X', c='red', label='Cluster Centers')\n",
    "plt.xlabel('Quantity')\n",
    "plt.ylabel('UnitPrice')\n",
    "plt.title('Customer Clusters')\n",
    "plt.legend()\n",
    "plt.show()\n"
   ]
  },
  {
   "cell_type": "code",
   "execution_count": 33,
   "id": "10566ab9",
   "metadata": {},
   "outputs": [
    {
     "data": {
      "image/png": "[encoded data removed]",
      "text/plain": [
       "<Figure size 800x600 with 1 Axes>"
      ]
     },
     "metadata": {},
     "output_type": "display_data"
    }
   ],
   "source": [
    "import matplotlib.pyplot as plt\n",
    "\n",
    "# Assign customers to clusters\n",
    "data_clustered['Cluster'] = kmeans.predict(X)\n",
    "\n",
    "# Visualize the customer clusters using a scatter plot\n",
    "plt.figure(figsize=(8, 6))\n",
    "for i in range(optimal_k):\n",
    "    cluster_data = data_clustered[data_clustered['Cluster'] == i]\n",
    "    plt.scatter(cluster_data['Quantity'], cluster_data['CustomerID'], label=f'Cluster {i}', alpha=0.7)\n",
    "\n",
    "plt.scatter(kmeans.cluster_centers_[:, 0], kmeans.cluster_centers_[:, 1], s=200, marker='X', c='red', label='Cluster Centers')\n",
    "plt.xlabel('Quantity')\n",
    "plt.ylabel('CustomerID')\n",
    "plt.title('Customer Clusters')\n",
    "plt.legend()\n",
    "plt.show()"
   ]
  },
  {
   "cell_type": "markdown",
   "id": "c89291a4",
   "metadata": {},
   "source": [
    "# 6. Performance Metrics:\n",
    "    a. Explain the concept of silhouette score and how it is used to evaluate the quality of clustering.\n",
    "    b. Calculate the silhouette score for the customer clusters and interpret the results."
   ]
  },
  {
   "cell_type": "code",
   "execution_count": null,
   "id": "419566d8",
   "metadata": {},
   "outputs": [],
   "source": [
    "#a.\n",
    "NHigher silhouette score indicates better clustering quality. \n",
    "The score ranges from -1 to 1, where a high value indicates that the object is well matched to its own cluster \n",
    "and poorly matched to neighboring clusters."
   ]
  },
  {
   "cell_type": "code",
   "execution_count": null,
   "id": "98c6a917",
   "metadata": {},
   "outputs": [],
   "source": [
    "import pandas as pd\n",
    "from sklearn.impute import SimpleImputer\n",
    "from sklearn.preprocessing import StandardScaler, LabelEncoder\n",
    "from sklearn.cluster import KMeans\n",
    "from sklearn.metrics import silhouette_score\n",
    "\n",
    "# Load the dataset with specified data types and low_memory=False\n",
    "data = pd.read_csv('data.csv', dtype={'InvoiceNo': str, 'StockCode': str, 'Description': str, \n",
    "                                       'Quantity': float, 'InvoiceDate': str, 'UnitPrice': float, \n",
    "                                       'CustomerID': str, 'Country': str}, low_memory=False)\n",
    "\n",
    "# Handling Missing Values\n",
    "imputer = SimpleImputer(strategy='mean')\n",
    "data_filled = pd.DataFrame(imputer.fit_transform(data.select_dtypes(include=['float64', 'int64'])), columns=data.select_dtypes(include=['float64', 'int64']).columns)\n",
    "\n",
    "# Scaling Numeric Columns\n",
    "scaler = StandardScaler()\n",
    "data_scaled = pd.DataFrame(scaler.fit_transform(data_filled), columns=data_filled.columns)\n",
    "\n",
    "# Encoding Categorical Columns\n",
    "label_encoders = {}\n",
    "for column in data.select_dtypes(include=['object']).columns:\n",
    "    label_encoders[column] = LabelEncoder()\n",
    "    data_scaled[column] = label_encoders[column].fit_transform(data[column])\n",
    "\n",
    "# Implementing K-Means Clustering and Calculating Silhouette Score\n",
    "selected_features = ['Quantity', 'UnitPrice', 'CustomerID']\n",
    "X = data_scaled[selected_features]\n",
    "\n",
    "best_silhouette_score = -1\n",
    "optimal_k = 2  # Start with a minimum number of clusters\n",
    "\n",
    "for k in range(2, 11):\n",
    "    kmeans = KMeans(n_clusters=k, random_state=42)\n",
    "    clusters = kmeans.fit_predict(X)\n",
    "    silhouette_avg = silhouette_score(X, clusters)\n",
    "    \n",
    "    if silhouette_avg > best_silhouette_score:\n",
    "        best_silhouette_score = silhouette_avg\n",
    "        optimal_k = k\n",
    "\n",
    "print(\"Silhouette Score for Optimal K (\", optimal_k, \" clusters):\", best_silhouette_score)\n",
    "\n",
    "# Interpret the silhouette score\n",
    "if best_silhouette_score > 0:\n",
    "    print(\"The clusters are well apart from each other, indicating good separation.\")\n",
    "elif best_silhouette_score == 0:\n",
    "    print(\"The clusters are close to each other, indicating overlapping clusters.\")\n",
    "else:\n",
    "    print(\"The clusters are overlapping, indicating poor separation.\")\n"
   ]
  },
  {
   "cell_type": "code",
   "execution_count": null,
   "id": "19eccfb6",
   "metadata": {},
   "outputs": [],
   "source": []
  },
  {
   "cell_type": "markdown",
   "id": "8446121c",
   "metadata": {},
   "source": [
    "# 7. Hyperparameter Tuning:\n",
    "    a. Describe the impact of the number of clusters (K) on the performance of K-Means and suggest \n",
    "    strategies for selecting the optimal value of K.\n",
    "    b. Conduct hyperparameter tuning for the K-Means model and discuss the impact of different \n",
    "    values of K on clustering results."
   ]
  },
  {
   "cell_type": "code",
   "execution_count": null,
   "id": "024859ba",
   "metadata": {},
   "outputs": [],
   "source": [
    "Impact of Number of Clusters (K) on K-Means Performance:\n",
    "\n",
    "The number of clusters (K) in K-Means significantly affects the clustering results. Here's how different values of K impact the performance:\n",
    "\n",
    "Underfitting (K too small):\n",
    "\n",
    "    If K is too small, clusters might be too broad and merge distinct groups, losing valuable information.\n",
    "    The clusters might not capture the underlying patterns in the data.\n",
    "Overfitting (K too large):\n",
    "\n",
    "    If K is too large, clusters might be too specific and capture noise in the data, leading to overfitting.\n",
    "    Overly granular clusters might not generalize well to new data.\n",
    "\n",
    "Strategies for Selecting Optimal Value of K:\n",
    "\n",
    "    Elbow Method:\n",
    "\n",
    "    Plot the within-cluster sum of squares (inertia) for different values of K.\n",
    "    The point where the inertia starts decreasing at a slower rate (forming an elbow) is often considered the optimal K.\n",
    "    Helps balance the trade-off between clustering accuracy and simplicity.\n",
    "    \n",
    "    Silhouette Score:\n",
    "\n",
    "    Measures how similar an object is to its own cluster compared to other clusters.\n",
    "    Higher silhouette score indicates better-defined clusters.\n",
    "    Choose K that gives the highest silhouette score.\n",
    "    \n",
    "    Gap Statistics:\n",
    "\n",
    "    Compare the within-cluster dispersion of the original data with a reference null distribution.\n",
    "    Optimal K is where the gap between the original data dispersion and random data dispersion is maximized.\n",
    "\n",
    "    Cross-Validation:\n",
    "\n",
    "    Use techniques like k-fold cross-validation to evaluate the performance of the K-Means algorithm for different K values.\n",
    "    Choose K that performs well consistently across multiple folds.\n",
    "\n",
    "Hyperparameter Tuning for K-Means:\n",
    "    Now, let's conduct hyperparameter tuning for the K-Means model based on the chosen strategies. We'll consider the Elbow Method and Silhouette Score to determine the optimal K. We can then discuss the impact of different K values on clustering results."
   ]
  },
  {
   "cell_type": "code",
   "execution_count": null,
   "id": "c7231d0e",
   "metadata": {},
   "outputs": [],
   "source": []
  },
  {
   "cell_type": "markdown",
   "id": "b6665ac9",
   "metadata": {},
   "source": [
    "# 8. Real-World Application:\n",
    "    a. Describe the practical applications of customer clustering in the e-commerce industry.\n",
    "    b. Discuss how customer clustering can lead to improved customer engagement, targeted \n",
    "    marketing, and personalized recommendations."
   ]
  },
  {
   "cell_type": "code",
   "execution_count": null,
   "id": "8c6847ed",
   "metadata": {},
   "outputs": [],
   "source": [
    "#a. Practical Uses in E-commerce:\n",
    "\n",
    "    Customer Segmentation: Categorize customers based on behavior.\n",
    "    Personalized Marketing: Targeted campaigns for specific customer groups.\n",
    "    Inventory Optimization: Predict demand, manage stock efficiently.\n",
    "    Customer Retention: Tailor strategies for loyal customer clusters.\n",
    "    Fraud Detection: Identify unusual behavior within clusters.\n",
    "\n",
    "#b. Benefits for E-commerce:\n",
    "\n",
    "    Enhanced Engagement: Personalized communication boosts customer interaction.\n",
    "    Targeted Marketing: Efficiently allocate marketing resources to specific segments.\n",
    "    Personalized Recommendations: Recommend products based on cluster preferences.\n",
    "So, Customer clustering improves engagement, optimizes marketing, and enhances personalized experiences, vital for e-commerce success."
   ]
  },
  {
   "cell_type": "markdown",
   "id": "fe0d02d6",
   "metadata": {},
   "source": [
    "# 9. Model Limitations:\n",
    "    a. Identify potential limitations of the K-Means clustering algorithm in customer segmentation \n",
    "    and discuss scenarios in which it may not perform well."
   ]
  },
  {
   "cell_type": "code",
   "execution_count": null,
   "id": "4e7bdb0d",
   "metadata": {},
   "outputs": [],
   "source": [
    "#a.Model Limitation\n",
    "\n",
    "K-Means Limitations in Our Customer Segmentation Model:\n",
    "\n",
    "Spherical Clusters Assumption: K-Means assumes clusters are spherical, limiting accuracy if clusters are non-spherical in our dataset.\n",
    "Sensitivity to Initial Centroids: Results could vary based on the initial cluster centers, affecting cluster assignments.\n",
    "Outlier Influence: Outliers might distort cluster boundaries, impacting the accuracy of customer segmentations.\n",
    "Fixed Number of Clusters: Requires specifying the number of clusters (K) beforehand, which could lead to suboptimal results if K is chosen incorrectly for our dataset."
   ]
  },
  {
   "cell_type": "code",
   "execution_count": null,
   "id": "69a6303c",
   "metadata": {},
   "outputs": [],
   "source": []
  }
 ],
 "metadata": {
  "kernelspec": {
   "display_name": "Python 3 (ipykernel)",
   "language": "python",
   "name": "python3"
  },
  "language_info": {
   "codemirror_mode": {
    "name": "ipython",
    "version": 3
   },
   "file_extension": ".py",
   "mimetype": "text/x-python",
   "name": "python",
   "nbconvert_exporter": "python",
   "pygments_lexer": "ipython3",
   "version": "3.11.4"
  }
 },
 "nbformat": 4,
 "nbformat_minor": 5
}
